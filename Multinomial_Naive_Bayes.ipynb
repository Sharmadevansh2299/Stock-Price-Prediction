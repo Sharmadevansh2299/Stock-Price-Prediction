{
  "nbformat": 4,
  "nbformat_minor": 0,
  "metadata": {
    "colab": {
      "name": "Multinomial Naive Bayes.ipynb",
      "provenance": [],
      "collapsed_sections": []
    },
    "kernelspec": {
      "name": "python3",
      "display_name": "Python 3"
    }
  },
  "cells": [
    {
      "cell_type": "markdown",
      "metadata": {
        "id": "X1kiO9kACE6s"
      },
      "source": [
        "## Importing the libraries"
      ]
    },
    {
      "cell_type": "code",
      "metadata": {
        "id": "7QG7sxmoCIvN"
      },
      "source": [
        "import numpy as np\n",
        "import matplotlib.pyplot as plt\n",
        "import pandas as pd"
      ],
      "execution_count": 1,
      "outputs": []
    },
    {
      "cell_type": "markdown",
      "metadata": {
        "id": "wTfaCIzdCLPA"
      },
      "source": [
        "## Importing the dataset"
      ]
    },
    {
      "cell_type": "code",
      "metadata": {
        "id": "UCK6vQ5QCQJe",
        "colab": {
          "base_uri": "https://localhost:8080/",
          "height": 203
        },
        "outputId": "b4e785d5-ef20-4966-cc25-eb518f3b8a0b"
      },
      "source": [
        "# Importing News Articles data\n",
        "news_articles = pd.read_csv('News_articles_dataset.csv', parse_dates=['Date'])\n",
        "news_articles.head()"
      ],
      "execution_count": 2,
      "outputs": [
        {
          "output_type": "execute_result",
          "data": {
            "text/html": [
              "<div>\n",
              "<style scoped>\n",
              "    .dataframe tbody tr th:only-of-type {\n",
              "        vertical-align: middle;\n",
              "    }\n",
              "\n",
              "    .dataframe tbody tr th {\n",
              "        vertical-align: top;\n",
              "    }\n",
              "\n",
              "    .dataframe thead th {\n",
              "        text-align: right;\n",
              "    }\n",
              "</style>\n",
              "<table border=\"1\" class=\"dataframe\">\n",
              "  <thead>\n",
              "    <tr style=\"text-align: right;\">\n",
              "      <th></th>\n",
              "      <th>Date</th>\n",
              "      <th>Headlines</th>\n",
              "    </tr>\n",
              "  </thead>\n",
              "  <tbody>\n",
              "    <tr>\n",
              "      <th>0</th>\n",
              "      <td>2015-01-01</td>\n",
              "      <td>What Can We Expect From Apple Inc. In 2015? 1 ...</td>\n",
              "    </tr>\n",
              "    <tr>\n",
              "      <th>1</th>\n",
              "      <td>2015-02-01</td>\n",
              "      <td>What to expect from Apple in 2015 beyond its s...</td>\n",
              "    </tr>\n",
              "    <tr>\n",
              "      <th>2</th>\n",
              "      <td>2015-03-01</td>\n",
              "      <td>Mountie: An inexpensive and innovative way to ...</td>\n",
              "    </tr>\n",
              "    <tr>\n",
              "      <th>3</th>\n",
              "      <td>2015-04-01</td>\n",
              "      <td>Donald Yacktman on the Sources of Moats, His C...</td>\n",
              "    </tr>\n",
              "    <tr>\n",
              "      <th>4</th>\n",
              "      <td>2015-05-01</td>\n",
              "      <td>SIM-free iPhone 6, 6 Plus reportedly debuting ...</td>\n",
              "    </tr>\n",
              "  </tbody>\n",
              "</table>\n",
              "</div>"
            ],
            "text/plain": [
              "        Date                                          Headlines\n",
              "0 2015-01-01  What Can We Expect From Apple Inc. In 2015? 1 ...\n",
              "1 2015-02-01  What to expect from Apple in 2015 beyond its s...\n",
              "2 2015-03-01  Mountie: An inexpensive and innovative way to ...\n",
              "3 2015-04-01  Donald Yacktman on the Sources of Moats, His C...\n",
              "4 2015-05-01  SIM-free iPhone 6, 6 Plus reportedly debuting ..."
            ]
          },
          "metadata": {
            "tags": []
          },
          "execution_count": 2
        }
      ]
    },
    {
      "cell_type": "code",
      "metadata": {
        "colab": {
          "base_uri": "https://localhost:8080/"
        },
        "id": "YB6k07Lvpncb",
        "outputId": "2be7fd64-e000-438d-9ca9-cd2d1972947f"
      },
      "source": [
        "news_articles.isnull().sum()"
      ],
      "execution_count": 3,
      "outputs": [
        {
          "output_type": "execute_result",
          "data": {
            "text/plain": [
              "Date         0\n",
              "Headlines    0\n",
              "dtype: int64"
            ]
          },
          "metadata": {
            "tags": []
          },
          "execution_count": 3
        }
      ]
    },
    {
      "cell_type": "code",
      "metadata": {
        "colab": {
          "base_uri": "https://localhost:8080/",
          "height": 203
        },
        "id": "8WSXaAawqU-X",
        "outputId": "a2112c05-ecd3-4e86-9f83-194f719846e4"
      },
      "source": [
        "# Importing Historical data of the stocks\n",
        "historical_data = pd.read_csv('HistoricalData_APPLE.csv', parse_dates=['Date'])\n",
        "historical_data.head()"
      ],
      "execution_count": 4,
      "outputs": [
        {
          "output_type": "execute_result",
          "data": {
            "text/html": [
              "<div>\n",
              "<style scoped>\n",
              "    .dataframe tbody tr th:only-of-type {\n",
              "        vertical-align: middle;\n",
              "    }\n",
              "\n",
              "    .dataframe tbody tr th {\n",
              "        vertical-align: top;\n",
              "    }\n",
              "\n",
              "    .dataframe thead th {\n",
              "        text-align: right;\n",
              "    }\n",
              "</style>\n",
              "<table border=\"1\" class=\"dataframe\">\n",
              "  <thead>\n",
              "    <tr style=\"text-align: right;\">\n",
              "      <th></th>\n",
              "      <th>Date</th>\n",
              "      <th>Close/Last</th>\n",
              "      <th>Volume</th>\n",
              "      <th>Open</th>\n",
              "      <th>High</th>\n",
              "      <th>Low</th>\n",
              "    </tr>\n",
              "  </thead>\n",
              "  <tbody>\n",
              "    <tr>\n",
              "      <th>0</th>\n",
              "      <td>2021-06-09</td>\n",
              "      <td>$127.13</td>\n",
              "      <td>56877940</td>\n",
              "      <td>$127.21</td>\n",
              "      <td>$127.75</td>\n",
              "      <td>$126.52</td>\n",
              "    </tr>\n",
              "    <tr>\n",
              "      <th>1</th>\n",
              "      <td>2021-06-08</td>\n",
              "      <td>$126.74</td>\n",
              "      <td>74403770</td>\n",
              "      <td>$126.60</td>\n",
              "      <td>$128.46</td>\n",
              "      <td>$126.21</td>\n",
              "    </tr>\n",
              "    <tr>\n",
              "      <th>2</th>\n",
              "      <td>2021-06-07</td>\n",
              "      <td>$125.90</td>\n",
              "      <td>71057550</td>\n",
              "      <td>$126.17</td>\n",
              "      <td>$126.32</td>\n",
              "      <td>$124.83</td>\n",
              "    </tr>\n",
              "    <tr>\n",
              "      <th>3</th>\n",
              "      <td>2021-06-04</td>\n",
              "      <td>$125.89</td>\n",
              "      <td>75169340</td>\n",
              "      <td>$124.07</td>\n",
              "      <td>$126.16</td>\n",
              "      <td>$123.85</td>\n",
              "    </tr>\n",
              "    <tr>\n",
              "      <th>4</th>\n",
              "      <td>2021-06-03</td>\n",
              "      <td>$123.54</td>\n",
              "      <td>76229170</td>\n",
              "      <td>$124.68</td>\n",
              "      <td>$124.85</td>\n",
              "      <td>$123.13</td>\n",
              "    </tr>\n",
              "  </tbody>\n",
              "</table>\n",
              "</div>"
            ],
            "text/plain": [
              "        Date Close/Last    Volume      Open      High       Low\n",
              "0 2021-06-09   $127.13   56877940  $127.21   $127.75   $126.52 \n",
              "1 2021-06-08   $126.74   74403770  $126.60   $128.46   $126.21 \n",
              "2 2021-06-07   $125.90   71057550  $126.17   $126.32   $124.83 \n",
              "3 2021-06-04   $125.89   75169340  $124.07   $126.16   $123.85 \n",
              "4 2021-06-03   $123.54   76229170  $124.68   $124.85   $123.13 "
            ]
          },
          "metadata": {
            "tags": []
          },
          "execution_count": 4
        }
      ]
    },
    {
      "cell_type": "markdown",
      "metadata": {
        "id": "mrm3VMXRMtDV"
      },
      "source": [
        "## Making necessary changes to the datasets and merging them together"
      ]
    },
    {
      "cell_type": "code",
      "metadata": {
        "colab": {
          "base_uri": "https://localhost:8080/",
          "height": 203
        },
        "id": "QFC1sa0mq4MX",
        "outputId": "cda298c1-135d-4101-ec7b-94397afab48e"
      },
      "source": [
        "# Sorting the Historical data according to 'Date' column\n",
        "historical_data.sort_values('Date',inplace=True)\n",
        "historical_data.head()"
      ],
      "execution_count": 5,
      "outputs": [
        {
          "output_type": "execute_result",
          "data": {
            "text/html": [
              "<div>\n",
              "<style scoped>\n",
              "    .dataframe tbody tr th:only-of-type {\n",
              "        vertical-align: middle;\n",
              "    }\n",
              "\n",
              "    .dataframe tbody tr th {\n",
              "        vertical-align: top;\n",
              "    }\n",
              "\n",
              "    .dataframe thead th {\n",
              "        text-align: right;\n",
              "    }\n",
              "</style>\n",
              "<table border=\"1\" class=\"dataframe\">\n",
              "  <thead>\n",
              "    <tr style=\"text-align: right;\">\n",
              "      <th></th>\n",
              "      <th>Date</th>\n",
              "      <th>Close/Last</th>\n",
              "      <th>Volume</th>\n",
              "      <th>Open</th>\n",
              "      <th>High</th>\n",
              "      <th>Low</th>\n",
              "    </tr>\n",
              "  </thead>\n",
              "  <tbody>\n",
              "    <tr>\n",
              "      <th>2515</th>\n",
              "      <td>2011-06-10</td>\n",
              "      <td>$11.64</td>\n",
              "      <td>433801306</td>\n",
              "      <td>$11.81</td>\n",
              "      <td>$11.85</td>\n",
              "      <td>$11.63</td>\n",
              "    </tr>\n",
              "    <tr>\n",
              "      <th>2514</th>\n",
              "      <td>2011-06-13</td>\n",
              "      <td>$11.66</td>\n",
              "      <td>329376468</td>\n",
              "      <td>$11.69</td>\n",
              "      <td>$11.73</td>\n",
              "      <td>$11.61</td>\n",
              "    </tr>\n",
              "    <tr>\n",
              "      <th>2513</th>\n",
              "      <td>2011-06-14</td>\n",
              "      <td>$11.87</td>\n",
              "      <td>333995906</td>\n",
              "      <td>$11.79</td>\n",
              "      <td>$11.90</td>\n",
              "      <td>$11.76</td>\n",
              "    </tr>\n",
              "    <tr>\n",
              "      <th>2512</th>\n",
              "      <td>2011-06-15</td>\n",
              "      <td>$11.67</td>\n",
              "      <td>395841722</td>\n",
              "      <td>$11.78</td>\n",
              "      <td>$11.80</td>\n",
              "      <td>$11.60</td>\n",
              "    </tr>\n",
              "    <tr>\n",
              "      <th>2511</th>\n",
              "      <td>2011-06-16</td>\n",
              "      <td>$11.61</td>\n",
              "      <td>507299317</td>\n",
              "      <td>$11.68</td>\n",
              "      <td>$11.74</td>\n",
              "      <td>$11.37</td>\n",
              "    </tr>\n",
              "  </tbody>\n",
              "</table>\n",
              "</div>"
            ],
            "text/plain": [
              "           Date Close/Last     Volume     Open     High      Low\n",
              "2515 2011-06-10    $11.64   433801306  $11.81   $11.85   $11.63 \n",
              "2514 2011-06-13    $11.66   329376468  $11.69   $11.73   $11.61 \n",
              "2513 2011-06-14    $11.87   333995906  $11.79   $11.90   $11.76 \n",
              "2512 2011-06-15    $11.67   395841722  $11.78   $11.80   $11.60 \n",
              "2511 2011-06-16    $11.61   507299317  $11.68   $11.74   $11.37 "
            ]
          },
          "metadata": {
            "tags": []
          },
          "execution_count": 5
        }
      ]
    },
    {
      "cell_type": "code",
      "metadata": {
        "colab": {
          "base_uri": "https://localhost:8080/",
          "height": 417
        },
        "id": "C7kbEXeirJW5",
        "outputId": "d2ff70db-709b-4020-8d3b-c12bdb8dab60"
      },
      "source": [
        "# Reset the index\n",
        "historical_data.reset_index()"
      ],
      "execution_count": 6,
      "outputs": [
        {
          "output_type": "execute_result",
          "data": {
            "text/html": [
              "<div>\n",
              "<style scoped>\n",
              "    .dataframe tbody tr th:only-of-type {\n",
              "        vertical-align: middle;\n",
              "    }\n",
              "\n",
              "    .dataframe tbody tr th {\n",
              "        vertical-align: top;\n",
              "    }\n",
              "\n",
              "    .dataframe thead th {\n",
              "        text-align: right;\n",
              "    }\n",
              "</style>\n",
              "<table border=\"1\" class=\"dataframe\">\n",
              "  <thead>\n",
              "    <tr style=\"text-align: right;\">\n",
              "      <th></th>\n",
              "      <th>index</th>\n",
              "      <th>Date</th>\n",
              "      <th>Close/Last</th>\n",
              "      <th>Volume</th>\n",
              "      <th>Open</th>\n",
              "      <th>High</th>\n",
              "      <th>Low</th>\n",
              "    </tr>\n",
              "  </thead>\n",
              "  <tbody>\n",
              "    <tr>\n",
              "      <th>0</th>\n",
              "      <td>2515</td>\n",
              "      <td>2011-06-10</td>\n",
              "      <td>$11.64</td>\n",
              "      <td>433801306</td>\n",
              "      <td>$11.81</td>\n",
              "      <td>$11.85</td>\n",
              "      <td>$11.63</td>\n",
              "    </tr>\n",
              "    <tr>\n",
              "      <th>1</th>\n",
              "      <td>2514</td>\n",
              "      <td>2011-06-13</td>\n",
              "      <td>$11.66</td>\n",
              "      <td>329376468</td>\n",
              "      <td>$11.69</td>\n",
              "      <td>$11.73</td>\n",
              "      <td>$11.61</td>\n",
              "    </tr>\n",
              "    <tr>\n",
              "      <th>2</th>\n",
              "      <td>2513</td>\n",
              "      <td>2011-06-14</td>\n",
              "      <td>$11.87</td>\n",
              "      <td>333995906</td>\n",
              "      <td>$11.79</td>\n",
              "      <td>$11.90</td>\n",
              "      <td>$11.76</td>\n",
              "    </tr>\n",
              "    <tr>\n",
              "      <th>3</th>\n",
              "      <td>2512</td>\n",
              "      <td>2011-06-15</td>\n",
              "      <td>$11.67</td>\n",
              "      <td>395841722</td>\n",
              "      <td>$11.78</td>\n",
              "      <td>$11.80</td>\n",
              "      <td>$11.60</td>\n",
              "    </tr>\n",
              "    <tr>\n",
              "      <th>4</th>\n",
              "      <td>2511</td>\n",
              "      <td>2011-06-16</td>\n",
              "      <td>$11.61</td>\n",
              "      <td>507299317</td>\n",
              "      <td>$11.68</td>\n",
              "      <td>$11.74</td>\n",
              "      <td>$11.37</td>\n",
              "    </tr>\n",
              "    <tr>\n",
              "      <th>...</th>\n",
              "      <td>...</td>\n",
              "      <td>...</td>\n",
              "      <td>...</td>\n",
              "      <td>...</td>\n",
              "      <td>...</td>\n",
              "      <td>...</td>\n",
              "      <td>...</td>\n",
              "    </tr>\n",
              "    <tr>\n",
              "      <th>2511</th>\n",
              "      <td>4</td>\n",
              "      <td>2021-06-03</td>\n",
              "      <td>$123.54</td>\n",
              "      <td>76229170</td>\n",
              "      <td>$124.68</td>\n",
              "      <td>$124.85</td>\n",
              "      <td>$123.13</td>\n",
              "    </tr>\n",
              "    <tr>\n",
              "      <th>2512</th>\n",
              "      <td>3</td>\n",
              "      <td>2021-06-04</td>\n",
              "      <td>$125.89</td>\n",
              "      <td>75169340</td>\n",
              "      <td>$124.07</td>\n",
              "      <td>$126.16</td>\n",
              "      <td>$123.85</td>\n",
              "    </tr>\n",
              "    <tr>\n",
              "      <th>2513</th>\n",
              "      <td>2</td>\n",
              "      <td>2021-06-07</td>\n",
              "      <td>$125.90</td>\n",
              "      <td>71057550</td>\n",
              "      <td>$126.17</td>\n",
              "      <td>$126.32</td>\n",
              "      <td>$124.83</td>\n",
              "    </tr>\n",
              "    <tr>\n",
              "      <th>2514</th>\n",
              "      <td>1</td>\n",
              "      <td>2021-06-08</td>\n",
              "      <td>$126.74</td>\n",
              "      <td>74403770</td>\n",
              "      <td>$126.60</td>\n",
              "      <td>$128.46</td>\n",
              "      <td>$126.21</td>\n",
              "    </tr>\n",
              "    <tr>\n",
              "      <th>2515</th>\n",
              "      <td>0</td>\n",
              "      <td>2021-06-09</td>\n",
              "      <td>$127.13</td>\n",
              "      <td>56877940</td>\n",
              "      <td>$127.21</td>\n",
              "      <td>$127.75</td>\n",
              "      <td>$126.52</td>\n",
              "    </tr>\n",
              "  </tbody>\n",
              "</table>\n",
              "<p>2516 rows × 7 columns</p>\n",
              "</div>"
            ],
            "text/plain": [
              "      index       Date Close/Last     Volume      Open      High       Low\n",
              "0      2515 2011-06-10    $11.64   433801306   $11.81    $11.85    $11.63 \n",
              "1      2514 2011-06-13    $11.66   329376468   $11.69    $11.73    $11.61 \n",
              "2      2513 2011-06-14    $11.87   333995906   $11.79    $11.90    $11.76 \n",
              "3      2512 2011-06-15    $11.67   395841722   $11.78    $11.80    $11.60 \n",
              "4      2511 2011-06-16    $11.61   507299317   $11.68    $11.74    $11.37 \n",
              "...     ...        ...        ...        ...       ...       ...       ...\n",
              "2511      4 2021-06-03   $123.54    76229170  $124.68   $124.85   $123.13 \n",
              "2512      3 2021-06-04   $125.89    75169340  $124.07   $126.16   $123.85 \n",
              "2513      2 2021-06-07   $125.90    71057550  $126.17   $126.32   $124.83 \n",
              "2514      1 2021-06-08   $126.74    74403770  $126.60   $128.46   $126.21 \n",
              "2515      0 2021-06-09   $127.13    56877940  $127.21   $127.75   $126.52 \n",
              "\n",
              "[2516 rows x 7 columns]"
            ]
          },
          "metadata": {
            "tags": []
          },
          "execution_count": 6
        }
      ]
    },
    {
      "cell_type": "code",
      "metadata": {
        "colab": {
          "base_uri": "https://localhost:8080/"
        },
        "id": "QQQGl_99rOtO",
        "outputId": "6db4b41f-4fa6-445c-be68-f6e4746f2085"
      },
      "source": [
        "historical_data.columns"
      ],
      "execution_count": 7,
      "outputs": [
        {
          "output_type": "execute_result",
          "data": {
            "text/plain": [
              "Index(['Date', 'Close/Last', 'Volume', 'Open', 'High', 'Low'], dtype='object')"
            ]
          },
          "metadata": {
            "tags": []
          },
          "execution_count": 7
        }
      ]
    },
    {
      "cell_type": "code",
      "metadata": {
        "colab": {
          "base_uri": "https://localhost:8080/",
          "height": 203
        },
        "id": "1TqcSbuJrifk",
        "outputId": "1771b5ec-a8ed-4cba-8445-cecb5b8c9988"
      },
      "source": [
        "# Merging the 2 datasets news_articles and historical_data into one dataset\n",
        "dataset = pd.merge(news_articles, historical_data, how='inner', on=['Date'])\n",
        "dataset.head()"
      ],
      "execution_count": 8,
      "outputs": [
        {
          "output_type": "execute_result",
          "data": {
            "text/html": [
              "<div>\n",
              "<style scoped>\n",
              "    .dataframe tbody tr th:only-of-type {\n",
              "        vertical-align: middle;\n",
              "    }\n",
              "\n",
              "    .dataframe tbody tr th {\n",
              "        vertical-align: top;\n",
              "    }\n",
              "\n",
              "    .dataframe thead th {\n",
              "        text-align: right;\n",
              "    }\n",
              "</style>\n",
              "<table border=\"1\" class=\"dataframe\">\n",
              "  <thead>\n",
              "    <tr style=\"text-align: right;\">\n",
              "      <th></th>\n",
              "      <th>Date</th>\n",
              "      <th>Headlines</th>\n",
              "      <th>Close/Last</th>\n",
              "      <th>Volume</th>\n",
              "      <th>Open</th>\n",
              "      <th>High</th>\n",
              "      <th>Low</th>\n",
              "    </tr>\n",
              "  </thead>\n",
              "  <tbody>\n",
              "    <tr>\n",
              "      <th>0</th>\n",
              "      <td>2015-04-01</td>\n",
              "      <td>Donald Yacktman on the Sources of Moats, His C...</td>\n",
              "      <td>$31.06</td>\n",
              "      <td>161852560</td>\n",
              "      <td>$31.21</td>\n",
              "      <td>$31.28</td>\n",
              "      <td>$30.78</td>\n",
              "    </tr>\n",
              "    <tr>\n",
              "      <th>1</th>\n",
              "      <td>2015-05-01</td>\n",
              "      <td>SIM-free iPhone 6, 6 Plus reportedly debuting ...</td>\n",
              "      <td>$32.24</td>\n",
              "      <td>229396000</td>\n",
              "      <td>$31.53</td>\n",
              "      <td>$32.53</td>\n",
              "      <td>$31.33</td>\n",
              "    </tr>\n",
              "    <tr>\n",
              "      <th>2</th>\n",
              "      <td>2015-06-01</td>\n",
              "      <td>Technology Transforming Cars Into \"Phones On W...</td>\n",
              "      <td>$32.63</td>\n",
              "      <td>128064080</td>\n",
              "      <td>$32.80</td>\n",
              "      <td>$32.85</td>\n",
              "      <td>$32.51</td>\n",
              "    </tr>\n",
              "    <tr>\n",
              "      <th>3</th>\n",
              "      <td>2015-07-01</td>\n",
              "      <td>Apple issues fourth developer beta of OS X 10....</td>\n",
              "      <td>$31.65</td>\n",
              "      <td>120827560</td>\n",
              "      <td>$31.73</td>\n",
              "      <td>$31.74</td>\n",
              "      <td>$31.50</td>\n",
              "    </tr>\n",
              "    <tr>\n",
              "      <th>4</th>\n",
              "      <td>2015-09-01</td>\n",
              "      <td>Samsung is reportedly making a secret new chip...</td>\n",
              "      <td>$26.93</td>\n",
              "      <td>306248680</td>\n",
              "      <td>$27.54</td>\n",
              "      <td>$27.97</td>\n",
              "      <td>$26.84</td>\n",
              "    </tr>\n",
              "  </tbody>\n",
              "</table>\n",
              "</div>"
            ],
            "text/plain": [
              "        Date  ...      Low\n",
              "0 2015-04-01  ...  $30.78 \n",
              "1 2015-05-01  ...  $31.33 \n",
              "2 2015-06-01  ...  $32.51 \n",
              "3 2015-07-01  ...  $31.50 \n",
              "4 2015-09-01  ...  $26.84 \n",
              "\n",
              "[5 rows x 7 columns]"
            ]
          },
          "metadata": {
            "tags": []
          },
          "execution_count": 8
        }
      ]
    },
    {
      "cell_type": "code",
      "metadata": {
        "colab": {
          "base_uri": "https://localhost:8080/"
        },
        "id": "Sdd_jR_QsGcH",
        "outputId": "566e8b84-5bf1-4b98-eda0-f4024f4ea3b4"
      },
      "source": [
        "# Checking Datatypes of all the columns of the dataset dataframe\n",
        "dataset.dtypes"
      ],
      "execution_count": 9,
      "outputs": [
        {
          "output_type": "execute_result",
          "data": {
            "text/plain": [
              "Date          datetime64[ns]\n",
              "Headlines             object\n",
              "Close/Last            object\n",
              "Volume                 int64\n",
              "Open                  object\n",
              "High                  object\n",
              "Low                   object\n",
              "dtype: object"
            ]
          },
          "metadata": {
            "tags": []
          },
          "execution_count": 9
        }
      ]
    },
    {
      "cell_type": "code",
      "metadata": {
        "id": "YSJjGQwvsFVI"
      },
      "source": [
        "# Removing $ symbol from Close, Open, High and Low columns to convert them to float values\n",
        "dataset['Close/Last'] = list(map(lambda x: x[1:], dataset['Close/Last'].values))\n",
        "dataset['Open'] = list(map(lambda x: x[1:], dataset['Open'].values))\n",
        "dataset['High'] = list(map(lambda x: x[1:], dataset['High'].values))\n",
        "dataset['Low'] = list(map(lambda x: x[1:], dataset['Low'].values))\n",
        "\n",
        "# Converting the above columns to float dataype\n",
        "dataset['Close/Last'] = dataset['Close/Last'].astype(float)\n",
        "dataset['Open'] = dataset['Open'].astype(float)\n",
        "dataset['High'] = dataset['High'].astype(float)\n",
        "dataset['Low'] = dataset['Low'].astype(float)"
      ],
      "execution_count": 10,
      "outputs": []
    },
    {
      "cell_type": "code",
      "metadata": {
        "colab": {
          "base_uri": "https://localhost:8080/",
          "height": 203
        },
        "id": "BQLRCxbosiyl",
        "outputId": "84429257-5995-4098-a331-b9d024e0c687"
      },
      "source": [
        "dataset.head()"
      ],
      "execution_count": 11,
      "outputs": [
        {
          "output_type": "execute_result",
          "data": {
            "text/html": [
              "<div>\n",
              "<style scoped>\n",
              "    .dataframe tbody tr th:only-of-type {\n",
              "        vertical-align: middle;\n",
              "    }\n",
              "\n",
              "    .dataframe tbody tr th {\n",
              "        vertical-align: top;\n",
              "    }\n",
              "\n",
              "    .dataframe thead th {\n",
              "        text-align: right;\n",
              "    }\n",
              "</style>\n",
              "<table border=\"1\" class=\"dataframe\">\n",
              "  <thead>\n",
              "    <tr style=\"text-align: right;\">\n",
              "      <th></th>\n",
              "      <th>Date</th>\n",
              "      <th>Headlines</th>\n",
              "      <th>Close/Last</th>\n",
              "      <th>Volume</th>\n",
              "      <th>Open</th>\n",
              "      <th>High</th>\n",
              "      <th>Low</th>\n",
              "    </tr>\n",
              "  </thead>\n",
              "  <tbody>\n",
              "    <tr>\n",
              "      <th>0</th>\n",
              "      <td>2015-04-01</td>\n",
              "      <td>Donald Yacktman on the Sources of Moats, His C...</td>\n",
              "      <td>31.06</td>\n",
              "      <td>161852560</td>\n",
              "      <td>31.21</td>\n",
              "      <td>31.28</td>\n",
              "      <td>30.78</td>\n",
              "    </tr>\n",
              "    <tr>\n",
              "      <th>1</th>\n",
              "      <td>2015-05-01</td>\n",
              "      <td>SIM-free iPhone 6, 6 Plus reportedly debuting ...</td>\n",
              "      <td>32.24</td>\n",
              "      <td>229396000</td>\n",
              "      <td>31.53</td>\n",
              "      <td>32.53</td>\n",
              "      <td>31.33</td>\n",
              "    </tr>\n",
              "    <tr>\n",
              "      <th>2</th>\n",
              "      <td>2015-06-01</td>\n",
              "      <td>Technology Transforming Cars Into \"Phones On W...</td>\n",
              "      <td>32.63</td>\n",
              "      <td>128064080</td>\n",
              "      <td>32.80</td>\n",
              "      <td>32.85</td>\n",
              "      <td>32.51</td>\n",
              "    </tr>\n",
              "    <tr>\n",
              "      <th>3</th>\n",
              "      <td>2015-07-01</td>\n",
              "      <td>Apple issues fourth developer beta of OS X 10....</td>\n",
              "      <td>31.65</td>\n",
              "      <td>120827560</td>\n",
              "      <td>31.73</td>\n",
              "      <td>31.74</td>\n",
              "      <td>31.50</td>\n",
              "    </tr>\n",
              "    <tr>\n",
              "      <th>4</th>\n",
              "      <td>2015-09-01</td>\n",
              "      <td>Samsung is reportedly making a secret new chip...</td>\n",
              "      <td>26.93</td>\n",
              "      <td>306248680</td>\n",
              "      <td>27.54</td>\n",
              "      <td>27.97</td>\n",
              "      <td>26.84</td>\n",
              "    </tr>\n",
              "  </tbody>\n",
              "</table>\n",
              "</div>"
            ],
            "text/plain": [
              "        Date                                          Headlines  ...   High    Low\n",
              "0 2015-04-01  Donald Yacktman on the Sources of Moats, His C...  ...  31.28  30.78\n",
              "1 2015-05-01  SIM-free iPhone 6, 6 Plus reportedly debuting ...  ...  32.53  31.33\n",
              "2 2015-06-01  Technology Transforming Cars Into \"Phones On W...  ...  32.85  32.51\n",
              "3 2015-07-01  Apple issues fourth developer beta of OS X 10....  ...  31.74  31.50\n",
              "4 2015-09-01  Samsung is reportedly making a secret new chip...  ...  27.97  26.84\n",
              "\n",
              "[5 rows x 7 columns]"
            ]
          },
          "metadata": {
            "tags": []
          },
          "execution_count": 11
        }
      ]
    },
    {
      "cell_type": "code",
      "metadata": {
        "colab": {
          "base_uri": "https://localhost:8080/",
          "height": 234
        },
        "id": "ccZTKtEHsqH0",
        "outputId": "1b670fa0-4ce1-436c-bed3-729e2b5c1d63"
      },
      "source": [
        "# Changing index column to 'Date'\n",
        "dataset.set_index('Date', inplace = True)\n",
        "dataset.head()"
      ],
      "execution_count": 12,
      "outputs": [
        {
          "output_type": "execute_result",
          "data": {
            "text/html": [
              "<div>\n",
              "<style scoped>\n",
              "    .dataframe tbody tr th:only-of-type {\n",
              "        vertical-align: middle;\n",
              "    }\n",
              "\n",
              "    .dataframe tbody tr th {\n",
              "        vertical-align: top;\n",
              "    }\n",
              "\n",
              "    .dataframe thead th {\n",
              "        text-align: right;\n",
              "    }\n",
              "</style>\n",
              "<table border=\"1\" class=\"dataframe\">\n",
              "  <thead>\n",
              "    <tr style=\"text-align: right;\">\n",
              "      <th></th>\n",
              "      <th>Headlines</th>\n",
              "      <th>Close/Last</th>\n",
              "      <th>Volume</th>\n",
              "      <th>Open</th>\n",
              "      <th>High</th>\n",
              "      <th>Low</th>\n",
              "    </tr>\n",
              "    <tr>\n",
              "      <th>Date</th>\n",
              "      <th></th>\n",
              "      <th></th>\n",
              "      <th></th>\n",
              "      <th></th>\n",
              "      <th></th>\n",
              "      <th></th>\n",
              "    </tr>\n",
              "  </thead>\n",
              "  <tbody>\n",
              "    <tr>\n",
              "      <th>2015-04-01</th>\n",
              "      <td>Donald Yacktman on the Sources of Moats, His C...</td>\n",
              "      <td>31.06</td>\n",
              "      <td>161852560</td>\n",
              "      <td>31.21</td>\n",
              "      <td>31.28</td>\n",
              "      <td>30.78</td>\n",
              "    </tr>\n",
              "    <tr>\n",
              "      <th>2015-05-01</th>\n",
              "      <td>SIM-free iPhone 6, 6 Plus reportedly debuting ...</td>\n",
              "      <td>32.24</td>\n",
              "      <td>229396000</td>\n",
              "      <td>31.53</td>\n",
              "      <td>32.53</td>\n",
              "      <td>31.33</td>\n",
              "    </tr>\n",
              "    <tr>\n",
              "      <th>2015-06-01</th>\n",
              "      <td>Technology Transforming Cars Into \"Phones On W...</td>\n",
              "      <td>32.63</td>\n",
              "      <td>128064080</td>\n",
              "      <td>32.80</td>\n",
              "      <td>32.85</td>\n",
              "      <td>32.51</td>\n",
              "    </tr>\n",
              "    <tr>\n",
              "      <th>2015-07-01</th>\n",
              "      <td>Apple issues fourth developer beta of OS X 10....</td>\n",
              "      <td>31.65</td>\n",
              "      <td>120827560</td>\n",
              "      <td>31.73</td>\n",
              "      <td>31.74</td>\n",
              "      <td>31.50</td>\n",
              "    </tr>\n",
              "    <tr>\n",
              "      <th>2015-09-01</th>\n",
              "      <td>Samsung is reportedly making a secret new chip...</td>\n",
              "      <td>26.93</td>\n",
              "      <td>306248680</td>\n",
              "      <td>27.54</td>\n",
              "      <td>27.97</td>\n",
              "      <td>26.84</td>\n",
              "    </tr>\n",
              "  </tbody>\n",
              "</table>\n",
              "</div>"
            ],
            "text/plain": [
              "                                                    Headlines  ...    Low\n",
              "Date                                                           ...       \n",
              "2015-04-01  Donald Yacktman on the Sources of Moats, His C...  ...  30.78\n",
              "2015-05-01  SIM-free iPhone 6, 6 Plus reportedly debuting ...  ...  31.33\n",
              "2015-06-01  Technology Transforming Cars Into \"Phones On W...  ...  32.51\n",
              "2015-07-01  Apple issues fourth developer beta of OS X 10....  ...  31.50\n",
              "2015-09-01  Samsung is reportedly making a secret new chip...  ...  26.84\n",
              "\n",
              "[5 rows x 6 columns]"
            ]
          },
          "metadata": {
            "tags": []
          },
          "execution_count": 12
        }
      ]
    },
    {
      "cell_type": "code",
      "metadata": {
        "colab": {
          "base_uri": "https://localhost:8080/",
          "height": 234
        },
        "id": "UDmJce80s-Qb",
        "outputId": "7db720d4-3cdf-47ff-8bb3-773da44ba05b"
      },
      "source": [
        "# Sorting the index in ascending order of date\n",
        "dataset.sort_index(ascending = True, inplace = True)\n",
        "dataset.head()"
      ],
      "execution_count": 13,
      "outputs": [
        {
          "output_type": "execute_result",
          "data": {
            "text/html": [
              "<div>\n",
              "<style scoped>\n",
              "    .dataframe tbody tr th:only-of-type {\n",
              "        vertical-align: middle;\n",
              "    }\n",
              "\n",
              "    .dataframe tbody tr th {\n",
              "        vertical-align: top;\n",
              "    }\n",
              "\n",
              "    .dataframe thead th {\n",
              "        text-align: right;\n",
              "    }\n",
              "</style>\n",
              "<table border=\"1\" class=\"dataframe\">\n",
              "  <thead>\n",
              "    <tr style=\"text-align: right;\">\n",
              "      <th></th>\n",
              "      <th>Headlines</th>\n",
              "      <th>Close/Last</th>\n",
              "      <th>Volume</th>\n",
              "      <th>Open</th>\n",
              "      <th>High</th>\n",
              "      <th>Low</th>\n",
              "    </tr>\n",
              "    <tr>\n",
              "      <th>Date</th>\n",
              "      <th></th>\n",
              "      <th></th>\n",
              "      <th></th>\n",
              "      <th></th>\n",
              "      <th></th>\n",
              "      <th></th>\n",
              "    </tr>\n",
              "  </thead>\n",
              "  <tbody>\n",
              "    <tr>\n",
              "      <th>2015-01-02</th>\n",
              "      <td>Apple Loop: iOS 8.1.3 Angers Users, Outlook Ar...</td>\n",
              "      <td>27.33</td>\n",
              "      <td>212575080</td>\n",
              "      <td>27.85</td>\n",
              "      <td>27.86</td>\n",
              "      <td>26.84</td>\n",
              "    </tr>\n",
              "    <tr>\n",
              "      <th>2015-01-05</th>\n",
              "      <td>Apple Watch interest described as &amp;quot;tepid,...</td>\n",
              "      <td>26.56</td>\n",
              "      <td>256843520</td>\n",
              "      <td>27.07</td>\n",
              "      <td>27.16</td>\n",
              "      <td>26.35</td>\n",
              "    </tr>\n",
              "    <tr>\n",
              "      <th>2015-01-06</th>\n",
              "      <td>Apple&amp;quot;s TV Service Delayed: Getting Local...</td>\n",
              "      <td>26.57</td>\n",
              "      <td>262729000</td>\n",
              "      <td>26.64</td>\n",
              "      <td>26.86</td>\n",
              "      <td>26.16</td>\n",
              "    </tr>\n",
              "    <tr>\n",
              "      <th>2015-01-07</th>\n",
              "      <td>Apple Inc. leaks new iPod colors in iTunes 12....</td>\n",
              "      <td>26.94</td>\n",
              "      <td>159933400</td>\n",
              "      <td>26.80</td>\n",
              "      <td>27.05</td>\n",
              "      <td>26.67</td>\n",
              "    </tr>\n",
              "    <tr>\n",
              "      <th>2015-01-08</th>\n",
              "      <td>Nomura Begins Coverage on Apple (AAPL) IBM cou...</td>\n",
              "      <td>27.97</td>\n",
              "      <td>236675040</td>\n",
              "      <td>27.31</td>\n",
              "      <td>28.04</td>\n",
              "      <td>27.18</td>\n",
              "    </tr>\n",
              "  </tbody>\n",
              "</table>\n",
              "</div>"
            ],
            "text/plain": [
              "                                                    Headlines  ...    Low\n",
              "Date                                                           ...       \n",
              "2015-01-02  Apple Loop: iOS 8.1.3 Angers Users, Outlook Ar...  ...  26.84\n",
              "2015-01-05  Apple Watch interest described as &quot;tepid,...  ...  26.35\n",
              "2015-01-06  Apple&quot;s TV Service Delayed: Getting Local...  ...  26.16\n",
              "2015-01-07  Apple Inc. leaks new iPod colors in iTunes 12....  ...  26.67\n",
              "2015-01-08  Nomura Begins Coverage on Apple (AAPL) IBM cou...  ...  27.18\n",
              "\n",
              "[5 rows x 6 columns]"
            ]
          },
          "metadata": {
            "tags": []
          },
          "execution_count": 13
        }
      ]
    },
    {
      "cell_type": "code",
      "metadata": {
        "colab": {
          "base_uri": "https://localhost:8080/"
        },
        "id": "Ez6vhC3R2JDe",
        "outputId": "b73be8e0-59cd-4d77-d4dd-b2a0b244df74"
      },
      "source": [
        "len(dataset)"
      ],
      "execution_count": 14,
      "outputs": [
        {
          "output_type": "execute_result",
          "data": {
            "text/plain": [
              "1595"
            ]
          },
          "metadata": {
            "tags": []
          },
          "execution_count": 14
        }
      ]
    },
    {
      "cell_type": "code",
      "metadata": {
        "colab": {
          "base_uri": "https://localhost:8080/",
          "height": 531
        },
        "id": "vEbPOft31UXY",
        "outputId": "101c7a15-d7a8-4d98-d952-bebd7970746d"
      },
      "source": [
        "# calculate the diff between previous and present days closed price of the stocks\n",
        "dataset['close_price_diff'] = ''\n",
        "for i in range(0, len(dataset) - 1):\n",
        "  dataset['close_price_diff'][i+1] = dataset['Close/Last'][i+1] - dataset['Close/Last'][i]\n",
        "\n",
        "dataset"
      ],
      "execution_count": 15,
      "outputs": [
        {
          "output_type": "stream",
          "text": [
            "/usr/local/lib/python3.7/dist-packages/ipykernel_launcher.py:4: SettingWithCopyWarning: \n",
            "A value is trying to be set on a copy of a slice from a DataFrame\n",
            "\n",
            "See the caveats in the documentation: https://pandas.pydata.org/pandas-docs/stable/user_guide/indexing.html#returning-a-view-versus-a-copy\n",
            "  after removing the cwd from sys.path.\n"
          ],
          "name": "stderr"
        },
        {
          "output_type": "execute_result",
          "data": {
            "text/html": [
              "<div>\n",
              "<style scoped>\n",
              "    .dataframe tbody tr th:only-of-type {\n",
              "        vertical-align: middle;\n",
              "    }\n",
              "\n",
              "    .dataframe tbody tr th {\n",
              "        vertical-align: top;\n",
              "    }\n",
              "\n",
              "    .dataframe thead th {\n",
              "        text-align: right;\n",
              "    }\n",
              "</style>\n",
              "<table border=\"1\" class=\"dataframe\">\n",
              "  <thead>\n",
              "    <tr style=\"text-align: right;\">\n",
              "      <th></th>\n",
              "      <th>Headlines</th>\n",
              "      <th>Close/Last</th>\n",
              "      <th>Volume</th>\n",
              "      <th>Open</th>\n",
              "      <th>High</th>\n",
              "      <th>Low</th>\n",
              "      <th>close_price_diff</th>\n",
              "    </tr>\n",
              "    <tr>\n",
              "      <th>Date</th>\n",
              "      <th></th>\n",
              "      <th></th>\n",
              "      <th></th>\n",
              "      <th></th>\n",
              "      <th></th>\n",
              "      <th></th>\n",
              "      <th></th>\n",
              "    </tr>\n",
              "  </thead>\n",
              "  <tbody>\n",
              "    <tr>\n",
              "      <th>2015-01-02</th>\n",
              "      <td>Apple Loop: iOS 8.1.3 Angers Users, Outlook Ar...</td>\n",
              "      <td>27.33</td>\n",
              "      <td>212575080</td>\n",
              "      <td>27.85</td>\n",
              "      <td>27.86</td>\n",
              "      <td>26.84</td>\n",
              "      <td></td>\n",
              "    </tr>\n",
              "    <tr>\n",
              "      <th>2015-01-05</th>\n",
              "      <td>Apple Watch interest described as &amp;quot;tepid,...</td>\n",
              "      <td>26.56</td>\n",
              "      <td>256843520</td>\n",
              "      <td>27.07</td>\n",
              "      <td>27.16</td>\n",
              "      <td>26.35</td>\n",
              "      <td>-0.77</td>\n",
              "    </tr>\n",
              "    <tr>\n",
              "      <th>2015-01-06</th>\n",
              "      <td>Apple&amp;quot;s TV Service Delayed: Getting Local...</td>\n",
              "      <td>26.57</td>\n",
              "      <td>262729000</td>\n",
              "      <td>26.64</td>\n",
              "      <td>26.86</td>\n",
              "      <td>26.16</td>\n",
              "      <td>0.01</td>\n",
              "    </tr>\n",
              "    <tr>\n",
              "      <th>2015-01-07</th>\n",
              "      <td>Apple Inc. leaks new iPod colors in iTunes 12....</td>\n",
              "      <td>26.94</td>\n",
              "      <td>159933400</td>\n",
              "      <td>26.80</td>\n",
              "      <td>27.05</td>\n",
              "      <td>26.67</td>\n",
              "      <td>0.37</td>\n",
              "    </tr>\n",
              "    <tr>\n",
              "      <th>2015-01-08</th>\n",
              "      <td>Nomura Begins Coverage on Apple (AAPL) IBM cou...</td>\n",
              "      <td>27.97</td>\n",
              "      <td>236675040</td>\n",
              "      <td>27.31</td>\n",
              "      <td>28.04</td>\n",
              "      <td>27.18</td>\n",
              "      <td>1.03</td>\n",
              "    </tr>\n",
              "    <tr>\n",
              "      <th>...</th>\n",
              "      <td>...</td>\n",
              "      <td>...</td>\n",
              "      <td>...</td>\n",
              "      <td>...</td>\n",
              "      <td>...</td>\n",
              "      <td>...</td>\n",
              "      <td>...</td>\n",
              "    </tr>\n",
              "    <tr>\n",
              "      <th>2021-05-28</th>\n",
              "      <td>Apple pushes back launch of podcast subscripti...</td>\n",
              "      <td>124.61</td>\n",
              "      <td>71311110</td>\n",
              "      <td>125.57</td>\n",
              "      <td>125.80</td>\n",
              "      <td>124.55</td>\n",
              "      <td>-0.67</td>\n",
              "    </tr>\n",
              "    <tr>\n",
              "      <th>2021-06-01</th>\n",
              "      <td>TSX nears record high as cannabis, renewables ...</td>\n",
              "      <td>124.28</td>\n",
              "      <td>67637120</td>\n",
              "      <td>125.08</td>\n",
              "      <td>125.35</td>\n",
              "      <td>123.94</td>\n",
              "      <td>-0.33</td>\n",
              "    </tr>\n",
              "    <tr>\n",
              "      <th>2021-06-02</th>\n",
              "      <td>Exclusive Social Media App Clubhouse Rises In ...</td>\n",
              "      <td>125.06</td>\n",
              "      <td>59278860</td>\n",
              "      <td>124.28</td>\n",
              "      <td>125.24</td>\n",
              "      <td>124.05</td>\n",
              "      <td>0.78</td>\n",
              "    </tr>\n",
              "    <tr>\n",
              "      <th>2021-06-03</th>\n",
              "      <td>Two Patents were fulfilled last week as the Ma...</td>\n",
              "      <td>123.54</td>\n",
              "      <td>76229170</td>\n",
              "      <td>124.68</td>\n",
              "      <td>124.85</td>\n",
              "      <td>123.13</td>\n",
              "      <td>-1.52</td>\n",
              "    </tr>\n",
              "    <tr>\n",
              "      <th>2021-06-04</th>\n",
              "      <td>This Simple Stock Market Strategy Is Winning s...</td>\n",
              "      <td>125.89</td>\n",
              "      <td>75169340</td>\n",
              "      <td>124.07</td>\n",
              "      <td>126.16</td>\n",
              "      <td>123.85</td>\n",
              "      <td>2.35</td>\n",
              "    </tr>\n",
              "  </tbody>\n",
              "</table>\n",
              "<p>1595 rows × 7 columns</p>\n",
              "</div>"
            ],
            "text/plain": [
              "                                                    Headlines  ...  close_price_diff\n",
              "Date                                                           ...                  \n",
              "2015-01-02  Apple Loop: iOS 8.1.3 Angers Users, Outlook Ar...  ...                  \n",
              "2015-01-05  Apple Watch interest described as &quot;tepid,...  ...             -0.77\n",
              "2015-01-06  Apple&quot;s TV Service Delayed: Getting Local...  ...              0.01\n",
              "2015-01-07  Apple Inc. leaks new iPod colors in iTunes 12....  ...              0.37\n",
              "2015-01-08  Nomura Begins Coverage on Apple (AAPL) IBM cou...  ...              1.03\n",
              "...                                                       ...  ...               ...\n",
              "2021-05-28  Apple pushes back launch of podcast subscripti...  ...             -0.67\n",
              "2021-06-01  TSX nears record high as cannabis, renewables ...  ...             -0.33\n",
              "2021-06-02  Exclusive Social Media App Clubhouse Rises In ...  ...              0.78\n",
              "2021-06-03  Two Patents were fulfilled last week as the Ma...  ...             -1.52\n",
              "2021-06-04  This Simple Stock Market Strategy Is Winning s...  ...              2.35\n",
              "\n",
              "[1595 rows x 7 columns]"
            ]
          },
          "metadata": {
            "tags": []
          },
          "execution_count": 15
        }
      ]
    },
    {
      "cell_type": "code",
      "metadata": {
        "colab": {
          "base_uri": "https://localhost:8080/"
        },
        "id": "3Eq8Yt_n4ho8",
        "outputId": "9bb2c927-7aad-4935-dfb4-0c47103eedf9"
      },
      "source": [
        "dataset.dtypes"
      ],
      "execution_count": 16,
      "outputs": [
        {
          "output_type": "execute_result",
          "data": {
            "text/plain": [
              "Headlines            object\n",
              "Close/Last          float64\n",
              "Volume                int64\n",
              "Open                float64\n",
              "High                float64\n",
              "Low                 float64\n",
              "close_price_diff     object\n",
              "dtype: object"
            ]
          },
          "metadata": {
            "tags": []
          },
          "execution_count": 16
        }
      ]
    },
    {
      "cell_type": "code",
      "metadata": {
        "id": "XlZBRemr5d-n"
      },
      "source": [
        "# Changing the datatype of close_price_diff column to float\n",
        "dataset['close_price_diff'] = pd.to_numeric(dataset['close_price_diff'], errors='coerce')"
      ],
      "execution_count": 17,
      "outputs": []
    },
    {
      "cell_type": "code",
      "metadata": {
        "id": "KRSnSxFr3z5R"
      },
      "source": [
        "# Impact column represent 'Profit' for value 1 and 'Loss' for value 0\n",
        "dataset['Impact'] = ''\n",
        "dataset['Impact'] = pd.to_numeric(dataset['Impact'], errors='coerce')\n",
        "dataset['Impact'] = dataset['close_price_diff'].apply(lambda x: 1 if x > 0 else 0)"
      ],
      "execution_count": 18,
      "outputs": []
    },
    {
      "cell_type": "code",
      "metadata": {
        "colab": {
          "base_uri": "https://localhost:8080/",
          "height": 234
        },
        "id": "C8HOeuir7nJS",
        "outputId": "f1180bd5-dc6d-4b93-fd7d-10bf0bb7bca6"
      },
      "source": [
        "dataset.head()"
      ],
      "execution_count": 19,
      "outputs": [
        {
          "output_type": "execute_result",
          "data": {
            "text/html": [
              "<div>\n",
              "<style scoped>\n",
              "    .dataframe tbody tr th:only-of-type {\n",
              "        vertical-align: middle;\n",
              "    }\n",
              "\n",
              "    .dataframe tbody tr th {\n",
              "        vertical-align: top;\n",
              "    }\n",
              "\n",
              "    .dataframe thead th {\n",
              "        text-align: right;\n",
              "    }\n",
              "</style>\n",
              "<table border=\"1\" class=\"dataframe\">\n",
              "  <thead>\n",
              "    <tr style=\"text-align: right;\">\n",
              "      <th></th>\n",
              "      <th>Headlines</th>\n",
              "      <th>Close/Last</th>\n",
              "      <th>Volume</th>\n",
              "      <th>Open</th>\n",
              "      <th>High</th>\n",
              "      <th>Low</th>\n",
              "      <th>close_price_diff</th>\n",
              "      <th>Impact</th>\n",
              "    </tr>\n",
              "    <tr>\n",
              "      <th>Date</th>\n",
              "      <th></th>\n",
              "      <th></th>\n",
              "      <th></th>\n",
              "      <th></th>\n",
              "      <th></th>\n",
              "      <th></th>\n",
              "      <th></th>\n",
              "      <th></th>\n",
              "    </tr>\n",
              "  </thead>\n",
              "  <tbody>\n",
              "    <tr>\n",
              "      <th>2015-01-02</th>\n",
              "      <td>Apple Loop: iOS 8.1.3 Angers Users, Outlook Ar...</td>\n",
              "      <td>27.33</td>\n",
              "      <td>212575080</td>\n",
              "      <td>27.85</td>\n",
              "      <td>27.86</td>\n",
              "      <td>26.84</td>\n",
              "      <td>NaN</td>\n",
              "      <td>0</td>\n",
              "    </tr>\n",
              "    <tr>\n",
              "      <th>2015-01-05</th>\n",
              "      <td>Apple Watch interest described as &amp;quot;tepid,...</td>\n",
              "      <td>26.56</td>\n",
              "      <td>256843520</td>\n",
              "      <td>27.07</td>\n",
              "      <td>27.16</td>\n",
              "      <td>26.35</td>\n",
              "      <td>-0.77</td>\n",
              "      <td>0</td>\n",
              "    </tr>\n",
              "    <tr>\n",
              "      <th>2015-01-06</th>\n",
              "      <td>Apple&amp;quot;s TV Service Delayed: Getting Local...</td>\n",
              "      <td>26.57</td>\n",
              "      <td>262729000</td>\n",
              "      <td>26.64</td>\n",
              "      <td>26.86</td>\n",
              "      <td>26.16</td>\n",
              "      <td>0.01</td>\n",
              "      <td>1</td>\n",
              "    </tr>\n",
              "    <tr>\n",
              "      <th>2015-01-07</th>\n",
              "      <td>Apple Inc. leaks new iPod colors in iTunes 12....</td>\n",
              "      <td>26.94</td>\n",
              "      <td>159933400</td>\n",
              "      <td>26.80</td>\n",
              "      <td>27.05</td>\n",
              "      <td>26.67</td>\n",
              "      <td>0.37</td>\n",
              "      <td>1</td>\n",
              "    </tr>\n",
              "    <tr>\n",
              "      <th>2015-01-08</th>\n",
              "      <td>Nomura Begins Coverage on Apple (AAPL) IBM cou...</td>\n",
              "      <td>27.97</td>\n",
              "      <td>236675040</td>\n",
              "      <td>27.31</td>\n",
              "      <td>28.04</td>\n",
              "      <td>27.18</td>\n",
              "      <td>1.03</td>\n",
              "      <td>1</td>\n",
              "    </tr>\n",
              "  </tbody>\n",
              "</table>\n",
              "</div>"
            ],
            "text/plain": [
              "                                                    Headlines  ...  Impact\n",
              "Date                                                           ...        \n",
              "2015-01-02  Apple Loop: iOS 8.1.3 Angers Users, Outlook Ar...  ...       0\n",
              "2015-01-05  Apple Watch interest described as &quot;tepid,...  ...       0\n",
              "2015-01-06  Apple&quot;s TV Service Delayed: Getting Local...  ...       1\n",
              "2015-01-07  Apple Inc. leaks new iPod colors in iTunes 12....  ...       1\n",
              "2015-01-08  Nomura Begins Coverage on Apple (AAPL) IBM cou...  ...       1\n",
              "\n",
              "[5 rows x 8 columns]"
            ]
          },
          "metadata": {
            "tags": []
          },
          "execution_count": 19
        }
      ]
    },
    {
      "cell_type": "code",
      "metadata": {
        "colab": {
          "base_uri": "https://localhost:8080/"
        },
        "id": "rRcivYGY7sSK",
        "outputId": "7500a2b1-10db-48cd-ae03-79e35defbe4c"
      },
      "source": [
        "dataset.dtypes"
      ],
      "execution_count": 20,
      "outputs": [
        {
          "output_type": "execute_result",
          "data": {
            "text/plain": [
              "Headlines            object\n",
              "Close/Last          float64\n",
              "Volume                int64\n",
              "Open                float64\n",
              "High                float64\n",
              "Low                 float64\n",
              "close_price_diff    float64\n",
              "Impact                int64\n",
              "dtype: object"
            ]
          },
          "metadata": {
            "tags": []
          },
          "execution_count": 20
        }
      ]
    },
    {
      "cell_type": "code",
      "metadata": {
        "colab": {
          "base_uri": "https://localhost:8080/",
          "height": 234
        },
        "id": "hfRLywM174fP",
        "outputId": "a8d1c8ed-8734-4af1-b800-f49ba904a24c"
      },
      "source": [
        "# Dropping the dataset where the closed price difference is null\n",
        "dataset.drop(dataset.index[[0]], inplace=True)\n",
        "dataset.head()"
      ],
      "execution_count": 21,
      "outputs": [
        {
          "output_type": "execute_result",
          "data": {
            "text/html": [
              "<div>\n",
              "<style scoped>\n",
              "    .dataframe tbody tr th:only-of-type {\n",
              "        vertical-align: middle;\n",
              "    }\n",
              "\n",
              "    .dataframe tbody tr th {\n",
              "        vertical-align: top;\n",
              "    }\n",
              "\n",
              "    .dataframe thead th {\n",
              "        text-align: right;\n",
              "    }\n",
              "</style>\n",
              "<table border=\"1\" class=\"dataframe\">\n",
              "  <thead>\n",
              "    <tr style=\"text-align: right;\">\n",
              "      <th></th>\n",
              "      <th>Headlines</th>\n",
              "      <th>Close/Last</th>\n",
              "      <th>Volume</th>\n",
              "      <th>Open</th>\n",
              "      <th>High</th>\n",
              "      <th>Low</th>\n",
              "      <th>close_price_diff</th>\n",
              "      <th>Impact</th>\n",
              "    </tr>\n",
              "    <tr>\n",
              "      <th>Date</th>\n",
              "      <th></th>\n",
              "      <th></th>\n",
              "      <th></th>\n",
              "      <th></th>\n",
              "      <th></th>\n",
              "      <th></th>\n",
              "      <th></th>\n",
              "      <th></th>\n",
              "    </tr>\n",
              "  </thead>\n",
              "  <tbody>\n",
              "    <tr>\n",
              "      <th>2015-01-05</th>\n",
              "      <td>Apple Watch interest described as &amp;quot;tepid,...</td>\n",
              "      <td>26.56</td>\n",
              "      <td>256843520</td>\n",
              "      <td>27.07</td>\n",
              "      <td>27.16</td>\n",
              "      <td>26.35</td>\n",
              "      <td>-0.77</td>\n",
              "      <td>0</td>\n",
              "    </tr>\n",
              "    <tr>\n",
              "      <th>2015-01-06</th>\n",
              "      <td>Apple&amp;quot;s TV Service Delayed: Getting Local...</td>\n",
              "      <td>26.57</td>\n",
              "      <td>262729000</td>\n",
              "      <td>26.64</td>\n",
              "      <td>26.86</td>\n",
              "      <td>26.16</td>\n",
              "      <td>0.01</td>\n",
              "      <td>1</td>\n",
              "    </tr>\n",
              "    <tr>\n",
              "      <th>2015-01-07</th>\n",
              "      <td>Apple Inc. leaks new iPod colors in iTunes 12....</td>\n",
              "      <td>26.94</td>\n",
              "      <td>159933400</td>\n",
              "      <td>26.80</td>\n",
              "      <td>27.05</td>\n",
              "      <td>26.67</td>\n",
              "      <td>0.37</td>\n",
              "      <td>1</td>\n",
              "    </tr>\n",
              "    <tr>\n",
              "      <th>2015-01-08</th>\n",
              "      <td>Nomura Begins Coverage on Apple (AAPL) IBM cou...</td>\n",
              "      <td>27.97</td>\n",
              "      <td>236675040</td>\n",
              "      <td>27.31</td>\n",
              "      <td>28.04</td>\n",
              "      <td>27.18</td>\n",
              "      <td>1.03</td>\n",
              "      <td>1</td>\n",
              "    </tr>\n",
              "    <tr>\n",
              "      <th>2015-01-09</th>\n",
              "      <td>Google&amp;quot;s (GOOGL) Self-Driving Cars to Hit...</td>\n",
              "      <td>28.00</td>\n",
              "      <td>214582920</td>\n",
              "      <td>28.17</td>\n",
              "      <td>28.31</td>\n",
              "      <td>27.55</td>\n",
              "      <td>0.03</td>\n",
              "      <td>1</td>\n",
              "    </tr>\n",
              "  </tbody>\n",
              "</table>\n",
              "</div>"
            ],
            "text/plain": [
              "                                                    Headlines  ...  Impact\n",
              "Date                                                           ...        \n",
              "2015-01-05  Apple Watch interest described as &quot;tepid,...  ...       0\n",
              "2015-01-06  Apple&quot;s TV Service Delayed: Getting Local...  ...       1\n",
              "2015-01-07  Apple Inc. leaks new iPod colors in iTunes 12....  ...       1\n",
              "2015-01-08  Nomura Begins Coverage on Apple (AAPL) IBM cou...  ...       1\n",
              "2015-01-09  Google&quot;s (GOOGL) Self-Driving Cars to Hit...  ...       1\n",
              "\n",
              "[5 rows x 8 columns]"
            ]
          },
          "metadata": {
            "tags": []
          },
          "execution_count": 21
        }
      ]
    },
    {
      "cell_type": "markdown",
      "metadata": {
        "id": "Qekztq71CixT"
      },
      "source": [
        "## Cleaning the texts"
      ]
    },
    {
      "cell_type": "code",
      "metadata": {
        "id": "8u_yXh9dCmEE",
        "colab": {
          "base_uri": "https://localhost:8080/"
        },
        "outputId": "9946980a-a9a8-456c-9c3a-0bba95f2e175"
      },
      "source": [
        "import re\n",
        "import nltk\n",
        "nltk.download('stopwords')\n",
        "from nltk.corpus import stopwords\n",
        "from nltk.stem.porter import PorterStemmer\n",
        "corpus = []\n",
        "for i in range(0, len(dataset)):\n",
        "  headlines = re.sub('[^a-zA-Z]', ' ', dataset['Headlines'][i])\n",
        "  headlines = headlines.lower()\n",
        "  headlines = headlines.split()\n",
        "  ps = PorterStemmer()\n",
        "  all_stopwords = stopwords.words('english')\n",
        "  all_stopwords.remove('not')\n",
        "  headlines = [ps.stem(word) for word in headlines if not word in set(all_stopwords)]\n",
        "  headlines = ' '.join(headlines)\n",
        "  corpus.append(headlines)"
      ],
      "execution_count": 22,
      "outputs": [
        {
          "output_type": "stream",
          "text": [
            "[nltk_data] Downloading package stopwords to /root/nltk_data...\n",
            "[nltk_data]   Package stopwords is already up-to-date!\n"
          ],
          "name": "stdout"
        }
      ]
    },
    {
      "cell_type": "code",
      "metadata": {
        "id": "KpGWdrzGoAsL",
        "colab": {
          "base_uri": "https://localhost:8080/"
        },
        "outputId": "cebe5421-a207-440e-d52a-7dc8e889bec3"
      },
      "source": [
        "print(len(corpus))"
      ],
      "execution_count": 23,
      "outputs": [
        {
          "output_type": "stream",
          "text": [
            "1594\n"
          ],
          "name": "stdout"
        }
      ]
    },
    {
      "cell_type": "markdown",
      "metadata": {
        "id": "CLqmAkANCp1-"
      },
      "source": [
        "## Creating the Bag of Words model"
      ]
    },
    {
      "cell_type": "code",
      "metadata": {
        "id": "qroF7XcSCvY3"
      },
      "source": [
        "from sklearn.feature_extraction.text import CountVectorizer\n",
        "cv = CountVectorizer(max_features = 20000)\n",
        "X = cv.fit_transform(corpus).toarray()\n",
        "y = dataset.iloc[:, -1].values"
      ],
      "execution_count": 24,
      "outputs": []
    },
    {
      "cell_type": "markdown",
      "metadata": {
        "id": "DH_VjgPzC2cd"
      },
      "source": [
        "## Splitting the dataset into the Training set and Test set"
      ]
    },
    {
      "cell_type": "code",
      "metadata": {
        "id": "qQXYM5VzDDDI"
      },
      "source": [
        "from sklearn.model_selection import train_test_split\n",
        "X_train, X_test, y_train, y_test = train_test_split(X, y, test_size = 0.20)"
      ],
      "execution_count": 25,
      "outputs": []
    },
    {
      "cell_type": "markdown",
      "metadata": {
        "id": "VkIq23vEDIPt"
      },
      "source": [
        "## Training the Naive Bayes model on the Training set"
      ]
    },
    {
      "cell_type": "code",
      "metadata": {
        "id": "DS9oiDXXDRdI",
        "colab": {
          "base_uri": "https://localhost:8080/"
        },
        "outputId": "95c745d6-668d-44c6-9570-96e03a11803b"
      },
      "source": [
        "from sklearn.naive_bayes import MultinomialNB\n",
        "classifier = MultinomialNB()\n",
        "classifier.fit(X_train, y_train)"
      ],
      "execution_count": 26,
      "outputs": [
        {
          "output_type": "execute_result",
          "data": {
            "text/plain": [
              "MultinomialNB(alpha=1.0, class_prior=None, fit_prior=True)"
            ]
          },
          "metadata": {
            "tags": []
          },
          "execution_count": 26
        }
      ]
    },
    {
      "cell_type": "markdown",
      "metadata": {
        "id": "1JaRM7zXDWUy"
      },
      "source": [
        "## Predicting the Test set results"
      ]
    },
    {
      "cell_type": "code",
      "metadata": {
        "id": "Iif0CVhFDaMp",
        "colab": {
          "base_uri": "https://localhost:8080/"
        },
        "outputId": "d72d3fdf-eb5d-4d4f-e512-cb1b50de88a9"
      },
      "source": [
        "y_pred = classifier.predict(X_test)\n",
        "print(np.concatenate((y_pred.reshape(len(y_pred),1), y_test.reshape(len(y_test),1)),1))"
      ],
      "execution_count": 27,
      "outputs": [
        {
          "output_type": "stream",
          "text": [
            "[[0 1]\n",
            " [0 1]\n",
            " [0 0]\n",
            " [1 0]\n",
            " [1 1]\n",
            " [0 0]\n",
            " [1 1]\n",
            " [1 1]\n",
            " [0 1]\n",
            " [0 0]\n",
            " [1 0]\n",
            " [0 1]\n",
            " [1 1]\n",
            " [0 1]\n",
            " [0 0]\n",
            " [1 0]\n",
            " [1 0]\n",
            " [1 1]\n",
            " [1 1]\n",
            " [0 0]\n",
            " [1 1]\n",
            " [0 0]\n",
            " [1 0]\n",
            " [1 1]\n",
            " [0 0]\n",
            " [0 1]\n",
            " [1 1]\n",
            " [1 1]\n",
            " [0 0]\n",
            " [1 1]\n",
            " [0 1]\n",
            " [1 0]\n",
            " [0 0]\n",
            " [1 0]\n",
            " [1 1]\n",
            " [1 0]\n",
            " [0 0]\n",
            " [0 0]\n",
            " [1 0]\n",
            " [0 1]\n",
            " [1 1]\n",
            " [0 1]\n",
            " [1 1]\n",
            " [0 0]\n",
            " [1 0]\n",
            " [1 0]\n",
            " [1 1]\n",
            " [1 1]\n",
            " [1 1]\n",
            " [1 0]\n",
            " [0 1]\n",
            " [1 0]\n",
            " [0 1]\n",
            " [0 1]\n",
            " [1 1]\n",
            " [1 0]\n",
            " [1 0]\n",
            " [0 0]\n",
            " [1 1]\n",
            " [0 0]\n",
            " [1 0]\n",
            " [0 1]\n",
            " [1 1]\n",
            " [1 0]\n",
            " [0 0]\n",
            " [1 1]\n",
            " [0 0]\n",
            " [1 1]\n",
            " [0 0]\n",
            " [0 0]\n",
            " [0 0]\n",
            " [1 0]\n",
            " [0 1]\n",
            " [1 1]\n",
            " [0 0]\n",
            " [0 0]\n",
            " [0 1]\n",
            " [0 0]\n",
            " [1 0]\n",
            " [1 1]\n",
            " [0 0]\n",
            " [1 1]\n",
            " [0 0]\n",
            " [0 0]\n",
            " [1 0]\n",
            " [1 1]\n",
            " [1 0]\n",
            " [0 1]\n",
            " [1 0]\n",
            " [0 0]\n",
            " [1 1]\n",
            " [1 1]\n",
            " [0 0]\n",
            " [0 1]\n",
            " [1 0]\n",
            " [0 0]\n",
            " [1 0]\n",
            " [1 0]\n",
            " [0 1]\n",
            " [1 0]\n",
            " [0 0]\n",
            " [0 1]\n",
            " [1 0]\n",
            " [0 0]\n",
            " [1 1]\n",
            " [0 1]\n",
            " [1 0]\n",
            " [0 0]\n",
            " [0 0]\n",
            " [1 0]\n",
            " [0 1]\n",
            " [0 1]\n",
            " [0 0]\n",
            " [0 0]\n",
            " [0 1]\n",
            " [1 0]\n",
            " [1 1]\n",
            " [1 0]\n",
            " [1 1]\n",
            " [0 1]\n",
            " [0 1]\n",
            " [0 0]\n",
            " [1 1]\n",
            " [1 1]\n",
            " [0 0]\n",
            " [0 0]\n",
            " [0 0]\n",
            " [0 0]\n",
            " [0 0]\n",
            " [1 1]\n",
            " [0 0]\n",
            " [1 1]\n",
            " [0 1]\n",
            " [0 1]\n",
            " [1 0]\n",
            " [0 1]\n",
            " [0 0]\n",
            " [1 0]\n",
            " [1 1]\n",
            " [1 1]\n",
            " [0 0]\n",
            " [0 1]\n",
            " [1 0]\n",
            " [1 0]\n",
            " [1 0]\n",
            " [0 1]\n",
            " [0 0]\n",
            " [0 1]\n",
            " [1 1]\n",
            " [1 0]\n",
            " [0 0]\n",
            " [1 1]\n",
            " [1 1]\n",
            " [1 0]\n",
            " [0 1]\n",
            " [0 1]\n",
            " [0 0]\n",
            " [1 0]\n",
            " [1 1]\n",
            " [1 1]\n",
            " [1 1]\n",
            " [1 0]\n",
            " [0 1]\n",
            " [1 1]\n",
            " [1 0]\n",
            " [1 1]\n",
            " [0 1]\n",
            " [0 0]\n",
            " [1 1]\n",
            " [0 0]\n",
            " [1 0]\n",
            " [0 0]\n",
            " [1 1]\n",
            " [1 0]\n",
            " [1 0]\n",
            " [1 1]\n",
            " [0 1]\n",
            " [0 1]\n",
            " [1 0]\n",
            " [0 1]\n",
            " [0 0]\n",
            " [0 1]\n",
            " [1 0]\n",
            " [0 1]\n",
            " [1 1]\n",
            " [0 0]\n",
            " [1 1]\n",
            " [0 0]\n",
            " [1 0]\n",
            " [1 1]\n",
            " [0 0]\n",
            " [0 0]\n",
            " [0 1]\n",
            " [0 0]\n",
            " [0 0]\n",
            " [0 1]\n",
            " [0 0]\n",
            " [1 1]\n",
            " [1 0]\n",
            " [0 1]\n",
            " [1 0]\n",
            " [1 0]\n",
            " [0 1]\n",
            " [1 1]\n",
            " [1 0]\n",
            " [0 1]\n",
            " [0 0]\n",
            " [1 1]\n",
            " [0 0]\n",
            " [1 0]\n",
            " [1 1]\n",
            " [0 1]\n",
            " [0 0]\n",
            " [1 1]\n",
            " [0 0]\n",
            " [1 1]\n",
            " [0 1]\n",
            " [0 0]\n",
            " [0 1]\n",
            " [0 0]\n",
            " [1 1]\n",
            " [0 1]\n",
            " [0 1]\n",
            " [0 0]\n",
            " [1 1]\n",
            " [1 1]\n",
            " [0 0]\n",
            " [1 1]\n",
            " [0 1]\n",
            " [0 0]\n",
            " [0 1]\n",
            " [1 1]\n",
            " [1 0]\n",
            " [1 0]\n",
            " [0 0]\n",
            " [1 0]\n",
            " [1 1]\n",
            " [1 0]\n",
            " [1 1]\n",
            " [0 1]\n",
            " [0 1]\n",
            " [1 1]\n",
            " [0 1]\n",
            " [1 1]\n",
            " [0 0]\n",
            " [1 1]\n",
            " [0 1]\n",
            " [1 1]\n",
            " [1 1]\n",
            " [1 1]\n",
            " [1 0]\n",
            " [1 1]\n",
            " [1 1]\n",
            " [1 1]\n",
            " [0 1]\n",
            " [0 1]\n",
            " [1 0]\n",
            " [1 0]\n",
            " [0 1]\n",
            " [0 1]\n",
            " [0 1]\n",
            " [1 0]\n",
            " [0 1]\n",
            " [0 1]\n",
            " [0 0]\n",
            " [0 1]\n",
            " [1 0]\n",
            " [1 1]\n",
            " [1 0]\n",
            " [1 1]\n",
            " [1 0]\n",
            " [1 0]\n",
            " [1 0]\n",
            " [0 1]\n",
            " [1 0]\n",
            " [0 1]\n",
            " [0 1]\n",
            " [0 0]\n",
            " [0 1]\n",
            " [0 1]\n",
            " [1 0]\n",
            " [1 0]\n",
            " [0 1]\n",
            " [0 0]\n",
            " [1 1]\n",
            " [1 1]\n",
            " [1 1]\n",
            " [0 1]\n",
            " [1 1]\n",
            " [1 0]\n",
            " [1 1]\n",
            " [0 1]\n",
            " [0 0]\n",
            " [0 0]\n",
            " [0 1]\n",
            " [1 0]\n",
            " [1 1]\n",
            " [0 0]\n",
            " [1 1]\n",
            " [1 1]\n",
            " [0 1]\n",
            " [1 1]\n",
            " [0 0]\n",
            " [1 1]\n",
            " [1 0]\n",
            " [0 1]\n",
            " [1 1]\n",
            " [1 1]\n",
            " [1 0]\n",
            " [0 0]\n",
            " [1 1]\n",
            " [1 1]\n",
            " [0 1]\n",
            " [1 0]\n",
            " [0 0]\n",
            " [0 0]\n",
            " [1 1]\n",
            " [1 0]\n",
            " [0 0]]\n"
          ],
          "name": "stdout"
        }
      ]
    },
    {
      "cell_type": "markdown",
      "metadata": {
        "id": "xoMltea5Dir1"
      },
      "source": [
        "## Making the Confusion Matrix"
      ]
    },
    {
      "cell_type": "code",
      "metadata": {
        "id": "Xj9IU6MxDnvo",
        "colab": {
          "base_uri": "https://localhost:8080/"
        },
        "outputId": "711cbeb7-7e10-4080-d33d-81c86a3f1ce6"
      },
      "source": [
        "from sklearn.metrics import confusion_matrix, accuracy_score\n",
        "cm = confusion_matrix(y_test, y_pred)\n",
        "print(cm)\n",
        "accuracy_score(y_test, y_pred)"
      ],
      "execution_count": 28,
      "outputs": [
        {
          "output_type": "stream",
          "text": [
            "[[79 74]\n",
            " [76 90]]\n"
          ],
          "name": "stdout"
        },
        {
          "output_type": "execute_result",
          "data": {
            "text/plain": [
              "0.5297805642633229"
            ]
          },
          "metadata": {
            "tags": []
          },
          "execution_count": 28
        }
      ]
    },
    {
      "cell_type": "markdown",
      "metadata": {
        "id": "Hb1gXelA9r6S"
      },
      "source": [
        "## Hyperparameter Tuning"
      ]
    },
    {
      "cell_type": "code",
      "metadata": {
        "colab": {
          "base_uri": "https://localhost:8080/"
        },
        "id": "G03ls_VD9rKq",
        "outputId": "617b28e1-63bb-40c0-90a8-34213c3f5200"
      },
      "source": [
        "# Applying K-fold cross validation\n",
        "from sklearn.model_selection import cross_val_score\n",
        "accuracies = cross_val_score(estimator = classifier, X = X_train, y = y_train, cv = 10)\n",
        "print(\"Mean Accuracy: {:.2f} %\".format(accuracies.mean()*100))\n",
        "print(\"Standard Deviation: {:.2f} %\".format(accuracies.std()*100))"
      ],
      "execution_count": 29,
      "outputs": [
        {
          "output_type": "stream",
          "text": [
            "Mean Accuracy: 51.38 %\n",
            "Standard Deviation: 4.98 %\n"
          ],
          "name": "stdout"
        }
      ]
    },
    {
      "cell_type": "code",
      "metadata": {
        "id": "FFDF8JIJ_Ri7",
        "colab": {
          "base_uri": "https://localhost:8080/"
        },
        "outputId": "c044bbd4-7495-4620-c98e-deab41b6ee8a"
      },
      "source": [
        "# Applying GridSearchCv for best parameters\n",
        "from sklearn.model_selection import GridSearchCV\n",
        "parameters = {'alpha': [0.2, 0.4, 0.6, 0.8, 1], 'fit_prior': [True, False]}\n",
        "grid_search = GridSearchCV(estimator = classifier,\n",
        "                           param_grid = parameters,\n",
        "                           scoring = 'accuracy',\n",
        "                           cv = 10,\n",
        "                           n_jobs = -1)\n",
        "grid_search.fit(X_train, y_train)\n",
        "best_accuracy = grid_search.best_score_\n",
        "best_parameters = grid_search.best_params_\n",
        "print(\"Best Accuracy: {:.2f} %\".format(best_accuracy*100))\n",
        "print(\"Best Parameters:\", best_parameters)"
      ],
      "execution_count": 30,
      "outputs": [
        {
          "output_type": "stream",
          "text": [
            "Best Accuracy: 51.93 %\n",
            "Best Parameters: {'alpha': 0.8, 'fit_prior': True}\n"
          ],
          "name": "stdout"
        }
      ]
    },
    {
      "cell_type": "markdown",
      "metadata": {
        "id": "4LKTMqT1bX3U"
      },
      "source": [
        "### After Hyperparameter Tuning"
      ]
    },
    {
      "cell_type": "code",
      "metadata": {
        "colab": {
          "base_uri": "https://localhost:8080/"
        },
        "id": "jzIimTFvbdXZ",
        "outputId": "ae1d4603-95a3-43b2-abe2-3ef06d3edb0a"
      },
      "source": [
        "classifier2 = MultinomialNB(alpha = 0.8, fit_prior = True)\n",
        "classifier2.fit(X_train, y_train)"
      ],
      "execution_count": 34,
      "outputs": [
        {
          "output_type": "execute_result",
          "data": {
            "text/plain": [
              "MultinomialNB(alpha=0.8, class_prior=None, fit_prior=True)"
            ]
          },
          "metadata": {
            "tags": []
          },
          "execution_count": 34
        }
      ]
    },
    {
      "cell_type": "code",
      "metadata": {
        "id": "f8OHsYvJbmST"
      },
      "source": [
        "y_pred = classifier2.predict(X_test)"
      ],
      "execution_count": 35,
      "outputs": []
    },
    {
      "cell_type": "code",
      "metadata": {
        "colab": {
          "base_uri": "https://localhost:8080/"
        },
        "id": "acKbcTq8bodZ",
        "outputId": "7a67793f-ae3a-4b5b-8961-7ed9e201c990"
      },
      "source": [
        "cm = confusion_matrix(y_test, y_pred)\n",
        "print(cm)\n",
        "accuracy_score(y_test, y_pred)"
      ],
      "execution_count": 36,
      "outputs": [
        {
          "output_type": "stream",
          "text": [
            "[[80 73]\n",
            " [76 90]]\n"
          ],
          "name": "stdout"
        },
        {
          "output_type": "execute_result",
          "data": {
            "text/plain": [
              "0.5329153605015674"
            ]
          },
          "metadata": {
            "tags": []
          },
          "execution_count": 36
        }
      ]
    }
  ]
}